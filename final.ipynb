{
 "cells": [
  {
   "cell_type": "markdown",
   "metadata": {},
   "source": [
    "# Notebook for Home Credit dataset\n",
    "Author: Johannes Pastorek, johannes.pastorek@gmail.com"
   ]
  },
  {
   "cell_type": "code",
   "execution_count": 293,
   "metadata": {},
   "outputs": [],
   "source": [
    "reset -fs"
   ]
  },
  {
   "cell_type": "code",
   "execution_count": 334,
   "metadata": {},
   "outputs": [],
   "source": [
    "import pandas as pd\n",
    "import numpy as np\n",
    "import seaborn as sns\n",
    "import matplotlib.pyplot as plt#\n",
    "\n",
    "from xgboost import XGBClassifier\n",
    "\n",
    "from sklearn.preprocessing import OneHotEncoder, StandardScaler\n",
    "from sklearn.impute import SimpleImputer\n",
    "from sklearn.pipeline import Pipeline\n",
    "from sklearn.compose import ColumnTransformer\n",
    "from sklearn.model_selection import cross_val_predict, cross_val_score, cross_validate\n",
    "\n",
    "%matplotlib inline\n",
    "plt.style.use('seaborn')\n",
    "np.random.seed(42)"
   ]
  },
  {
   "cell_type": "code",
   "execution_count": null,
   "metadata": {},
   "outputs": [],
   "source": [
    "def isNaN(num):\n",
    "    return num != num\n",
    "\n",
    "\n",
    "def get_col_descr(feature):\n",
    "    return column_description[column_description.row == feature].loc[:, 'description'].tolist()\n",
    "\n",
    "\n",
    "def transform_days_feats(cols):\n",
    "    for col in cols:\n",
    "        if col in list(X.columns):\n",
    "            new_col_name = col.split('_')[-1]\n",
    "            X[new_col_name] = X[col].apply(lambda x: int(x / -365))\n",
    "            X.drop([col], axis=1, inplace=True)\n",
    "            print(col + '  =>  ' + new_col_name)\n",
    "         \n",
    "        \n",
    "def remove_nan_cols(cols):\n",
    "    new_cols = list()\n",
    "    for col in cols:\n",
    "        if X[col].isna().sum() == 0:\n",
    "            new_cols.append(col)\n",
    "        else:\n",
    "            X.drop([col], axis=1, inplace=True)\n",
    "            print('removed column: ' + col)\n",
    "    return new_cols\n",
    "\n",
    "\n",
    "def hist_print(data1, data0, header, xlab, bin_count):\n",
    "    plt.hist(data1, alpha=0.4, label='\"bad\" loan', bins=bin_count, weights=np.ones(len(data1)) / len(data1))\n",
    "    plt.hist(data0, alpha=0.4, label='other', bins=bin_count, weights=np.ones(len(data0)) / len(data0))\n",
    "    plt.grid(b=None)\n",
    "    plt.title(header)\n",
    "    plt.xlabel(xlab)\n",
    "    plt.ylabel('Frequency')\n",
    "    plt.legend(loc='best')\n",
    "    plt.show()"
   ]
  },
  {
   "cell_type": "markdown",
   "metadata": {},
   "source": [
    "# Data"
   ]
  },
  {
   "cell_type": "code",
   "execution_count": 295,
   "metadata": {},
   "outputs": [],
   "source": [
    "# import train data\n",
    "train = pd.read_csv('application_train.csv')\n",
    "# import test data\n",
    "test = pd.read_csv('application_test.csv')\n",
    "# add col for differentiating between train and test\n",
    "train['dataset'], test['dataset'] = 0, 1\n",
    "# create one combined data set X\n",
    "X = pd.concat([train,test],sort=True)\n",
    "# make column names lower case\n",
    "X.columns = X.columns.str.lower()"
   ]
  },
  {
   "cell_type": "code",
   "execution_count": 325,
   "metadata": {},
   "outputs": [
    {
     "name": "stderr",
     "output_type": "stream",
     "text": [
      "/Users/johannespastorek/opt/anaconda3/envs/nf/lib/python3.6/site-packages/ipykernel_launcher.py:3: SettingWithCopyWarning: \n",
      "A value is trying to be set on a copy of a slice from a DataFrame.\n",
      "Try using .loc[row_indexer,col_indexer] = value instead\n",
      "\n",
      "See the caveats in the documentation: http://pandas.pydata.org/pandas-docs/stable/indexing.html#indexing-view-versus-copy\n",
      "  This is separate from the ipykernel package so we can avoid doing imports until\n"
     ]
    },
    {
     "data": {
      "text/html": [
       "<div>\n",
       "<style scoped>\n",
       "    .dataframe tbody tr th:only-of-type {\n",
       "        vertical-align: middle;\n",
       "    }\n",
       "\n",
       "    .dataframe tbody tr th {\n",
       "        vertical-align: top;\n",
       "    }\n",
       "\n",
       "    .dataframe thead th {\n",
       "        text-align: right;\n",
       "    }\n",
       "</style>\n",
       "<table border=\"1\" class=\"dataframe\">\n",
       "  <thead>\n",
       "    <tr style=\"text-align: right;\">\n",
       "      <th></th>\n",
       "      <th>Description</th>\n",
       "    </tr>\n",
       "    <tr>\n",
       "      <th>Row</th>\n",
       "      <th></th>\n",
       "    </tr>\n",
       "  </thead>\n",
       "  <tbody>\n",
       "    <tr>\n",
       "      <th>sk_id_curr</th>\n",
       "      <td>ID of loan in our sample</td>\n",
       "    </tr>\n",
       "    <tr>\n",
       "      <th>target</th>\n",
       "      <td>Target variable (1 - client with payment diffi...</td>\n",
       "    </tr>\n",
       "    <tr>\n",
       "      <th>name_contract_type</th>\n",
       "      <td>Identification if loan is cash or revolving</td>\n",
       "    </tr>\n",
       "    <tr>\n",
       "      <th>code_gender</th>\n",
       "      <td>Gender of the client</td>\n",
       "    </tr>\n",
       "    <tr>\n",
       "      <th>flag_own_car</th>\n",
       "      <td>Flag if the client owns a car</td>\n",
       "    </tr>\n",
       "  </tbody>\n",
       "</table>\n",
       "</div>"
      ],
      "text/plain": [
       "                                                          Description\n",
       "Row                                                                  \n",
       "sk_id_curr                                   ID of loan in our sample\n",
       "target              Target variable (1 - client with payment diffi...\n",
       "name_contract_type        Identification if loan is cash or revolving\n",
       "code_gender                                      Gender of the client\n",
       "flag_own_car                            Flag if the client owns a car"
      ]
     },
     "execution_count": 325,
     "metadata": {},
     "output_type": "execute_result"
    }
   ],
   "source": [
    "c = pd.read_csv('HomeCredit_columns_description.csv', encoding= 'unicode_escape')\n",
    "cd = c[c.Table == 'application_{train|test}.csv']\n",
    "cd['Row'] = cd['Row'].apply(lambda x: x.lower())\n",
    "cd = cd[['Row', 'Description']]\n",
    "cd = cd.rename({'Row':'Variable', 'Definition':'Definition'})\n",
    "cd = cd.set_index('Row')\n",
    "cd.head()"
   ]
  },
  {
   "cell_type": "code",
   "execution_count": 331,
   "metadata": {},
   "outputs": [
    {
     "data": {
      "text/plain": [
       "['Target variable (1 - client with payment difficulties: he/she had late payment more than X days on at least one of the first Y installments of the loan in our sample, 0 - all other cases)']"
      ]
     },
     "execution_count": 331,
     "metadata": {},
     "output_type": "execute_result"
    }
   ],
   "source": [
    "description = cd.loc['target']\n",
    "description.tolist()"
   ]
  },
  {
   "cell_type": "markdown",
   "metadata": {},
   "source": [
    "# Cleaning"
   ]
  },
  {
   "cell_type": "code",
   "execution_count": 332,
   "metadata": {},
   "outputs": [
    {
     "name": "stdout",
     "output_type": "stream",
     "text": [
      "(307511, 123)\n",
      "(48744, 122)\n"
     ]
    }
   ],
   "source": [
    "# shape of train and test data\n",
    "print(train.shape)\n",
    "print(test.shape)"
   ]
  },
  {
   "cell_type": "markdown",
   "metadata": {},
   "source": [
    "## Transform Time Features"
   ]
  },
  {
   "cell_type": "code",
   "execution_count": null,
   "metadata": {},
   "outputs": [],
   "source": [
    "days_cols = [x for x in list(X.columns) if (x.split('_')[0] == 'days')]\n",
    "days_cols = remove_nan_cols(days_cols)"
   ]
  },
  {
   "cell_type": "code",
   "execution_count": null,
   "metadata": {},
   "outputs": [],
   "source": [
    "transform_days_feats(days_cols)"
   ]
  },
  {
   "cell_type": "code",
   "execution_count": null,
   "metadata": {},
   "outputs": [],
   "source": [
    "# employed -1000 replace with NaN\n",
    "X['employed'] = X.employed.apply(lambda x: float('NaN') if x == -1000 else x)"
   ]
  },
  {
   "cell_type": "markdown",
   "metadata": {},
   "source": [
    "## Categorical and Numerical Features"
   ]
  },
  {
   "cell_type": "code",
   "execution_count": 297,
   "metadata": {},
   "outputs": [],
   "source": [
    "# differentiate between num (no object type) and cat (object type) features\n",
    "cat_features = list(X.columns[X.dtypes==object])\n",
    "num_features = list(X.columns[X.dtypes!=object])"
   ]
  },
  {
   "cell_type": "code",
   "execution_count": 298,
   "metadata": {},
   "outputs": [
    {
     "data": {
      "text/plain": [
       "code_gender                    3\n",
       "emergencystate_mode            2\n",
       "flag_own_car                   2\n",
       "flag_own_realty                2\n",
       "fondkapremont_mode             4\n",
       "housetype_mode                 3\n",
       "name_contract_type             2\n",
       "name_education_type            5\n",
       "name_family_status             6\n",
       "name_housing_type              6\n",
       "name_income_type               8\n",
       "name_type_suite                7\n",
       "occupation_type               18\n",
       "organization_type             58\n",
       "wallsmaterial_mode             7\n",
       "weekday_appr_process_start     7\n",
       "Name: unique, dtype: object"
      ]
     },
     "execution_count": 298,
     "metadata": {},
     "output_type": "execute_result"
    }
   ],
   "source": [
    "# how many unique entries does each cat feature have\n",
    "X[cat_features].describe().loc['unique',:]"
   ]
  },
  {
   "cell_type": "code",
   "execution_count": 299,
   "metadata": {},
   "outputs": [
    {
     "name": "stdout",
     "output_type": "stream",
     "text": [
      "<class 'pandas.core.frame.DataFrame'>\n",
      "Int64Index: 356255 entries, 0 to 48743\n",
      "Data columns (total 16 columns):\n",
      "code_gender                   356255 non-null object\n",
      "emergencystate_mode           188291 non-null object\n",
      "flag_own_car                  356255 non-null object\n",
      "flag_own_realty               356255 non-null object\n",
      "fondkapremont_mode            113163 non-null object\n",
      "housetype_mode                178339 non-null object\n",
      "name_contract_type            356255 non-null object\n",
      "name_education_type           356255 non-null object\n",
      "name_family_status            356255 non-null object\n",
      "name_housing_type             356255 non-null object\n",
      "name_income_type              356255 non-null object\n",
      "name_type_suite               354052 non-null object\n",
      "occupation_type               244259 non-null object\n",
      "organization_type             356255 non-null object\n",
      "wallsmaterial_mode            176021 non-null object\n",
      "weekday_appr_process_start    356255 non-null object\n",
      "dtypes: object(16)\n",
      "memory usage: 46.2+ MB\n"
     ]
    }
   ],
   "source": [
    "# how many missings do cat features have\n",
    "X[cat_features].info()"
   ]
  },
  {
   "cell_type": "code",
   "execution_count": 300,
   "metadata": {},
   "outputs": [
    {
     "name": "stdout",
     "output_type": "stream",
     "text": [
      "<class 'pandas.core.frame.DataFrame'>\n",
      "Int64Index: 356255 entries, 0 to 48743\n",
      "Data columns (total 107 columns):\n",
      "amt_annuity                     356219 non-null float64\n",
      "amt_credit                      356255 non-null float64\n",
      "amt_goods_price                 355977 non-null float64\n",
      "amt_income_total                356255 non-null float64\n",
      "amt_req_credit_bureau_day       308687 non-null float64\n",
      "amt_req_credit_bureau_hour      308687 non-null float64\n",
      "amt_req_credit_bureau_mon       308687 non-null float64\n",
      "amt_req_credit_bureau_qrt       308687 non-null float64\n",
      "amt_req_credit_bureau_week      308687 non-null float64\n",
      "amt_req_credit_bureau_year      308687 non-null float64\n",
      "apartments_avg                  176307 non-null float64\n",
      "apartments_medi                 176307 non-null float64\n",
      "apartments_mode                 176307 non-null float64\n",
      "basementarea_avg                148671 non-null float64\n",
      "basementarea_medi               148671 non-null float64\n",
      "basementarea_mode               148671 non-null float64\n",
      "cnt_children                    356255 non-null int64\n",
      "cnt_fam_members                 356253 non-null float64\n",
      "commonarea_avg                  107895 non-null float64\n",
      "commonarea_medi                 107895 non-null float64\n",
      "commonarea_mode                 107895 non-null float64\n",
      "days_birth                      356255 non-null int64\n",
      "days_employed                   356255 non-null int64\n",
      "days_id_publish                 356255 non-null int64\n",
      "days_last_phone_change          356254 non-null float64\n",
      "days_registration               356255 non-null float64\n",
      "def_30_cnt_social_circle        355205 non-null float64\n",
      "def_60_cnt_social_circle        355205 non-null float64\n",
      "elevators_avg                   167175 non-null float64\n",
      "elevators_medi                  167175 non-null float64\n",
      "elevators_mode                  167175 non-null float64\n",
      "entrances_avg                   177848 non-null float64\n",
      "entrances_medi                  177848 non-null float64\n",
      "entrances_mode                  177848 non-null float64\n",
      "ext_source_1                    162345 non-null float64\n",
      "ext_source_2                    355587 non-null float64\n",
      "ext_source_3                    286622 non-null float64\n",
      "flag_cont_mobile                356255 non-null int64\n",
      "flag_document_10                356255 non-null int64\n",
      "flag_document_11                356255 non-null int64\n",
      "flag_document_12                356255 non-null int64\n",
      "flag_document_13                356255 non-null int64\n",
      "flag_document_14                356255 non-null int64\n",
      "flag_document_15                356255 non-null int64\n",
      "flag_document_16                356255 non-null int64\n",
      "flag_document_17                356255 non-null int64\n",
      "flag_document_18                356255 non-null int64\n",
      "flag_document_19                356255 non-null int64\n",
      "flag_document_2                 356255 non-null int64\n",
      "flag_document_20                356255 non-null int64\n",
      "flag_document_21                356255 non-null int64\n",
      "flag_document_3                 356255 non-null int64\n",
      "flag_document_4                 356255 non-null int64\n",
      "flag_document_5                 356255 non-null int64\n",
      "flag_document_6                 356255 non-null int64\n",
      "flag_document_7                 356255 non-null int64\n",
      "flag_document_8                 356255 non-null int64\n",
      "flag_document_9                 356255 non-null int64\n",
      "flag_email                      356255 non-null int64\n",
      "flag_emp_phone                  356255 non-null int64\n",
      "flag_mobil                      356255 non-null int64\n",
      "flag_phone                      356255 non-null int64\n",
      "flag_work_phone                 356255 non-null int64\n",
      "floorsmax_avg                   179914 non-null float64\n",
      "floorsmax_medi                  179914 non-null float64\n",
      "floorsmax_mode                  179914 non-null float64\n",
      "floorsmin_avg                   115147 non-null float64\n",
      "floorsmin_medi                  115147 non-null float64\n",
      "floorsmin_mode                  115147 non-null float64\n",
      "hour_appr_process_start         356255 non-null int64\n",
      "landarea_avg                    145411 non-null float64\n",
      "landarea_medi                   145411 non-null float64\n",
      "landarea_mode                   145411 non-null float64\n",
      "live_city_not_work_city         356255 non-null int64\n",
      "live_region_not_work_region     356255 non-null int64\n",
      "livingapartments_avg            113276 non-null float64\n",
      "livingapartments_medi           113276 non-null float64\n",
      "livingapartments_mode           113276 non-null float64\n",
      "livingarea_avg                  178353 non-null float64\n",
      "livingarea_medi                 178353 non-null float64\n",
      "livingarea_mode                 178353 non-null float64\n",
      "nonlivingapartments_avg         109394 non-null float64\n",
      "nonlivingapartments_medi        109394 non-null float64\n",
      "nonlivingapartments_mode        109394 non-null float64\n",
      "nonlivingarea_avg               160489 non-null float64\n",
      "nonlivingarea_medi              160489 non-null float64\n",
      "nonlivingarea_mode              160489 non-null float64\n",
      "obs_30_cnt_social_circle        355205 non-null float64\n",
      "obs_60_cnt_social_circle        355205 non-null float64\n",
      "own_car_age                     121014 non-null float64\n",
      "region_population_relative      356255 non-null float64\n",
      "region_rating_client            356255 non-null int64\n",
      "region_rating_client_w_city     356255 non-null int64\n",
      "reg_city_not_live_city          356255 non-null int64\n",
      "reg_city_not_work_city          356255 non-null int64\n",
      "reg_region_not_live_region      356255 non-null int64\n",
      "reg_region_not_work_region      356255 non-null int64\n",
      "sk_id_curr                      356255 non-null int64\n",
      "target                          307511 non-null float64\n",
      "totalarea_mode                  185200 non-null float64\n",
      "years_beginexpluatation_avg     183392 non-null float64\n",
      "years_beginexpluatation_medi    183392 non-null float64\n",
      "years_beginexpluatation_mode    183392 non-null float64\n",
      "years_build_avg                 119949 non-null float64\n",
      "years_build_medi                119949 non-null float64\n",
      "years_build_mode                119949 non-null float64\n",
      "dataset                         356255 non-null int64\n",
      "dtypes: float64(66), int64(41)\n",
      "memory usage: 293.5 MB\n"
     ]
    }
   ],
   "source": [
    "# how many missings do num features have\n",
    "X[num_features].info(verbose=True, null_counts=True)"
   ]
  },
  {
   "cell_type": "markdown",
   "metadata": {},
   "source": [
    "# Exploration"
   ]
  },
  {
   "cell_type": "markdown",
   "metadata": {},
   "source": [
    "## Features Importance with XGBoost"
   ]
  },
  {
   "cell_type": "code",
   "execution_count": 301,
   "metadata": {},
   "outputs": [],
   "source": [
    "def get_feature_importance(data, no_of_features, cats=cat_features):\n",
    "    # replace cat NaNs with 'missing'\n",
    "    data[cat_features] = data[cat_features].fillna('missing')\n",
    "    # turn cat features into numbers\n",
    "    for col in data[cat_features]:\n",
    "        data[col] = pd.factorize(X[col])[0]\n",
    "    \n",
    "    # fit XGB classifier to train data\n",
    "    model = XGBClassifier()\n",
    "    X_train = data[data.dataset == 0].drop(columns=['target', 'dataset'])\n",
    "    y_train = data[data.dataset == 0].target\n",
    "    model.fit(X_train, y_train)\n",
    "    \n",
    "    # zip column names with their respective feature importances\n",
    "    fi = list(zip(list(X_train), model.feature_importances_))\n",
    "    # sort by feature importance\n",
    "    fi.sort(key=lambda x: x[1])\n",
    "    \n",
    "    # take x best features\n",
    "    feature_list = list(zip(*fi[-no_of_features:]))\n",
    "    # create plot\n",
    "    plt.figure(figsize=(12, 5))\n",
    "    plt.grid(b=None)\n",
    "    plt.title('Feature Importance')\n",
    "    plt.barh(range(len(feature_list[1])), feature_list[1])\n",
    "    my_yticks = feature_list[0]\n",
    "    plt.yticks(list(range(len(my_yticks))), my_yticks)\n",
    "    plt.xlabel('Feature Score')\n",
    "    plt.show()\n",
    "    \n",
    "    return my_yticks"
   ]
  },
  {
   "cell_type": "code",
   "execution_count": 302,
   "metadata": {},
   "outputs": [
    {
     "data": {
      "image/png": "[encoded data removed]",
      "text/plain": [
       "<Figure size 864x360 with 1 Axes>"
      ]
     },
     "metadata": {},
     "output_type": "display_data"
    }
   ],
   "source": [
    "features = get_feature_importance(X.copy(), 10)"
   ]
  },
  {
   "cell_type": "markdown",
   "metadata": {},
   "source": [
    "# Feature Engineering"
   ]
  },
  {
   "cell_type": "code",
   "execution_count": 303,
   "metadata": {},
   "outputs": [],
   "source": [
    "# only use top x features\n",
    "X = X[list(features) + ['target', 'dataset']]\n",
    "# differentiate between num (no object type) and cat (object type) features\n",
    "cat_features = list(X.columns[X.dtypes==object])\n",
    "num_features = list(X.columns[X.dtypes!=object])"
   ]
  },
  {
   "cell_type": "code",
   "execution_count": 304,
   "metadata": {},
   "outputs": [
    {
     "name": "stdout",
     "output_type": "stream",
     "text": [
      "<class 'pandas.core.frame.DataFrame'>\n",
      "Int64Index: 356255 entries, 0 to 48743\n",
      "Data columns (total 12 columns):\n",
      "ext_source_1           162345 non-null float64\n",
      "floorsmax_avg          179914 non-null float64\n",
      "totalarea_mode         185200 non-null float64\n",
      "code_gender            356255 non-null object\n",
      "name_education_type    356255 non-null object\n",
      "amt_goods_price        355977 non-null float64\n",
      "name_income_type       356255 non-null object\n",
      "flag_document_3        356255 non-null int64\n",
      "ext_source_2           355587 non-null float64\n",
      "ext_source_3           286622 non-null float64\n",
      "target                 307511 non-null float64\n",
      "dataset                356255 non-null int64\n",
      "dtypes: float64(7), int64(2), object(3)\n",
      "memory usage: 35.3+ MB\n"
     ]
    }
   ],
   "source": [
    "X.info()"
   ]
  },
  {
   "cell_type": "code",
   "execution_count": 305,
   "metadata": {},
   "outputs": [
    {
     "data": {
      "text/plain": [
       "Index(['ext_source_1', 'floorsmax_avg', 'totalarea_mode', 'code_gender',\n",
       "       'name_education_type', 'amt_goods_price', 'name_income_type',\n",
       "       'flag_document_3', 'ext_source_2', 'ext_source_3', 'target', 'dataset'],\n",
       "      dtype='object')"
      ]
     },
     "execution_count": 305,
     "metadata": {},
     "output_type": "execute_result"
    }
   ],
   "source": [
    "X.columns"
   ]
  },
  {
   "cell_type": "code",
   "execution_count": 306,
   "metadata": {},
   "outputs": [
    {
     "data": {
      "image/png": "[encoded data removed]",
      "text/plain": [
       "<Figure size 576x396 with 9 Axes>"
      ]
     },
     "metadata": {},
     "output_type": "display_data"
    }
   ],
   "source": [
    "ax = X.hist()\n",
    "# disable axis labels\n",
    "for axis in ax.flatten():\n",
    "    axis.set_title('')\n",
    "    axis.set_xticklabels([]) \n",
    "    axis.set_yticklabels([])\n",
    "plt.show()"
   ]
  },
  {
   "cell_type": "code",
   "execution_count": 307,
   "metadata": {},
   "outputs": [
    {
     "data": {
      "text/plain": [
       "<matplotlib.axes._subplots.AxesSubplot at 0x1a1a2aba90>"
      ]
     },
     "execution_count": 307,
     "metadata": {},
     "output_type": "execute_result"
    },
    {
     "data": {
      "image/png": "[encoded data removed]",
      "text/plain": [
       "<Figure size 576x396 with 1 Axes>"
      ]
     },
     "metadata": {},
     "output_type": "display_data"
    }
   ],
   "source": [
    "X['name_education_type'].hist()"
   ]
  },
  {
   "cell_type": "code",
   "execution_count": 308,
   "metadata": {},
   "outputs": [],
   "source": [
    "X['higher_educ'] = X['name_education_type'].apply(lambda x: \n",
    "                                                  1 if (x == 'Higher education') | \n",
    "                                                       (x == 'Academic degree')  \n",
    "                                                  else 0\n",
    "                                                 )\n",
    "X = X.drop('name_education_type', axis=1)"
   ]
  },
  {
   "cell_type": "code",
   "execution_count": 309,
   "metadata": {},
   "outputs": [
    {
     "data": {
      "text/plain": [
       "<matplotlib.axes._subplots.AxesSubplot at 0x1a1c73a6d8>"
      ]
     },
     "execution_count": 309,
     "metadata": {},
     "output_type": "execute_result"
    },
    {
     "data": {
      "image/png": "[encoded data removed]",
      "text/plain": [
       "<Figure size 576x396 with 1 Axes>"
      ]
     },
     "metadata": {},
     "output_type": "display_data"
    }
   ],
   "source": [
    "X['code_gender'].hist()"
   ]
  },
  {
   "cell_type": "code",
   "execution_count": 310,
   "metadata": {},
   "outputs": [],
   "source": [
    "X['code_gender'] = X['code_gender'].replace('XNA', np.NaN)"
   ]
  },
  {
   "cell_type": "code",
   "execution_count": 311,
   "metadata": {},
   "outputs": [
    {
     "data": {
      "text/plain": [
       "<matplotlib.axes._subplots.AxesSubplot at 0x1a1cb2c710>"
      ]
     },
     "execution_count": 311,
     "metadata": {},
     "output_type": "execute_result"
    },
    {
     "data": {
      "image/png": "[encoded data removed]",
      "text/plain": [
       "<Figure size 576x396 with 1 Axes>"
      ]
     },
     "metadata": {},
     "output_type": "display_data"
    }
   ],
   "source": [
    "X['amt_goods_price'].hist()"
   ]
  },
  {
   "cell_type": "code",
   "execution_count": 312,
   "metadata": {},
   "outputs": [],
   "source": [
    "X['amt_goods_price_log'] = X['amt_goods_price'].apply(lambda x: np.log(x+1))\n",
    "X = X.drop('amt_goods_price', axis=1)"
   ]
  },
  {
   "cell_type": "code",
   "execution_count": 313,
   "metadata": {},
   "outputs": [
    {
     "data": {
      "text/plain": [
       "<matplotlib.axes._subplots.AxesSubplot at 0x1a1b36f080>"
      ]
     },
     "execution_count": 313,
     "metadata": {},
     "output_type": "execute_result"
    },
    {
     "data": {
      "image/png": "[encoded data removed]",
      "text/plain": [
       "<Figure size 576x396 with 1 Axes>"
      ]
     },
     "metadata": {},
     "output_type": "display_data"
    }
   ],
   "source": [
    "X['amt_goods_price_log'].hist()"
   ]
  },
  {
   "cell_type": "code",
   "execution_count": 314,
   "metadata": {},
   "outputs": [
    {
     "data": {
      "text/plain": [
       "array(['Working', 'State servant', 'Commercial associate', 'Pensioner',\n",
       "       'Unemployed', 'Student', 'Businessman', 'Maternity leave'],\n",
       "      dtype=object)"
      ]
     },
     "execution_count": 314,
     "metadata": {},
     "output_type": "execute_result"
    }
   ],
   "source": [
    "X['name_income_type'].unique()"
   ]
  },
  {
   "cell_type": "code",
   "execution_count": 315,
   "metadata": {},
   "outputs": [
    {
     "data": {
      "text/plain": [
       "<matplotlib.axes._subplots.AxesSubplot at 0x1a23181cf8>"
      ]
     },
     "execution_count": 315,
     "metadata": {},
     "output_type": "execute_result"
    },
    {
     "data": {
      "image/png": "[encoded data removed]",
      "text/plain": [
       "<Figure size 576x396 with 1 Axes>"
      ]
     },
     "metadata": {},
     "output_type": "display_data"
    }
   ],
   "source": [
    "X['name_income_type'].hist()"
   ]
  },
  {
   "cell_type": "code",
   "execution_count": 316,
   "metadata": {},
   "outputs": [
    {
     "data": {
      "text/plain": [
       "name_income_type\n",
       "Businessman                 10\n",
       "Commercial associate     71617\n",
       "Maternity leave              5\n",
       "Pensioner                55362\n",
       "State servant            21703\n",
       "Student                     18\n",
       "Unemployed                  22\n",
       "Working                 158774\n",
       "Name: target, dtype: int64"
      ]
     },
     "execution_count": 316,
     "metadata": {},
     "output_type": "execute_result"
    }
   ],
   "source": [
    "X.groupby('name_income_type').count()['target']"
   ]
  },
  {
   "cell_type": "code",
   "execution_count": 317,
   "metadata": {},
   "outputs": [
    {
     "data": {
      "text/plain": [
       "name_income_type\n",
       "Businessman              0.000000\n",
       "Commercial associate     7.484257\n",
       "Maternity leave         40.000000\n",
       "Pensioner                5.386366\n",
       "State servant            5.754965\n",
       "Student                  0.000000\n",
       "Unemployed              36.363636\n",
       "Working                  9.588472\n",
       "Name: target, dtype: float64"
      ]
     },
     "execution_count": 317,
     "metadata": {},
     "output_type": "execute_result"
    }
   ],
   "source": [
    "((X.groupby('name_income_type').sum()['target'] / X.groupby('name_income_type').count()['target']) * 100)"
   ]
  },
  {
   "cell_type": "code",
   "execution_count": 318,
   "metadata": {},
   "outputs": [],
   "source": [
    "X = X.drop('name_income_type', axis=1)"
   ]
  },
  {
   "cell_type": "code",
   "execution_count": 319,
   "metadata": {},
   "outputs": [
    {
     "data": {
      "text/plain": [
       "Index(['ext_source_1', 'floorsmax_avg', 'totalarea_mode', 'code_gender',\n",
       "       'flag_document_3', 'ext_source_2', 'ext_source_3', 'target', 'dataset',\n",
       "       'higher_educ', 'amt_goods_price_log'],\n",
       "      dtype='object')"
      ]
     },
     "execution_count": 319,
     "metadata": {},
     "output_type": "execute_result"
    }
   ],
   "source": [
    "X.columns"
   ]
  },
  {
   "cell_type": "markdown",
   "metadata": {},
   "source": [
    "## Add own Features"
   ]
  },
  {
   "cell_type": "code",
   "execution_count": null,
   "metadata": {},
   "outputs": [],
   "source": [
    "modes = list()\n",
    "for col in list(X.columns):\n",
    "    if col.split('_')[-1] == 'mode':\n",
    "        modes.append(col)\n",
    "\n",
    "mode_df = X[modes]\n",
    "        \n",
    "X['mode_nans'] = mode_df.isna().sum(axis=1) == 0\n",
    "X['mode_nans'] = X['mode_nans'].astype(int)"
   ]
  },
  {
   "cell_type": "code",
   "execution_count": null,
   "metadata": {},
   "outputs": [],
   "source": [
    "X['higher_educ'] = X['name_education_type'].apply(lambda x: \n",
    "                                                  1 if (x == 'Higher education') | \n",
    "                                                       (x == 'Academic degree')  \n",
    "                                                  else 0\n",
    "                                                 )"
   ]
  },
  {
   "cell_type": "code",
   "execution_count": null,
   "metadata": {},
   "outputs": [],
   "source": [
    "X['term'] = X.amt_annuity / X.amt_credit\n",
    "X['income_credit'] = X.amt_credit / X.amt_income_total"
   ]
  },
  {
   "cell_type": "markdown",
   "metadata": {},
   "source": [
    "# Predictive Modeling"
   ]
  },
  {
   "cell_type": "markdown",
   "metadata": {},
   "source": [
    "## Cost-Sensitive Logistic Regression"
   ]
  },
  {
   "cell_type": "code",
   "execution_count": null,
   "metadata": {},
   "outputs": [],
   "source": [
    "from sklearn.linear_model import LogisticRegression\n",
    "\n",
    "model = LogisticRegression(max_iter=2000, class_weight='balanced')\n",
    "cv = RepeatedStratifiedKFold(n_splits=5, n_repeats=5, random_state=1)\n",
    "scores = cross_val_score(model, X_train, y_train, scoring='roc_auc', cv=cv, n_jobs=-1, verbose=5)\n",
    "\n",
    "print('Mean ROC AUC: %.3f' % np.mean(scores))"
   ]
  },
  {
   "cell_type": "markdown",
   "metadata": {},
   "source": [
    "## Random Forest with SMOTE"
   ]
  },
  {
   "cell_type": "code",
   "execution_count": null,
   "metadata": {},
   "outputs": [],
   "source": [
    "model = RandomForestClassifier()\n",
    "resample = SMOTEENN()\n",
    "pipeline = Pipeline(steps=[('r', resample), ('m', model)])\n",
    "cv = RepeatedStratifiedKFold(n_splits=5, n_repeats=3, random_state=1)\n",
    "scores = cross_val_score(pipeline, X_train, y_train, scoring='roc_auc', cv=cv, n_jobs=-1, verbose=5)\n",
    "\n",
    "print('Mean ROC AUC: %.3f' % np.mean(scores))"
   ]
  },
  {
   "cell_type": "markdown",
   "metadata": {},
   "source": [
    "## XGBoost"
   ]
  },
  {
   "cell_type": "code",
   "execution_count": null,
   "metadata": {},
   "outputs": [],
   "source": [
    "model = XGBClassifier(learning_rate =0.1,\n",
    "                      n_estimators=500,\n",
    "                      max_depth=5,\n",
    "                      min_child_weight=1,\n",
    "                      gamma=0,\n",
    "                      subsample=0.8,\n",
    "                      colsample_bytree=0.8,\n",
    "                      objective= 'binary:logistic',\n",
    "                      nthread=4,\n",
    "                      scale_pos_weight=1,\n",
    "                      seed=1\n",
    ")\n",
    "\n",
    "model.fit(X_train, y_train)\n",
    "cv = RepeatedStratifiedKFold(n_splits=3, n_repeats=3, random_state=1)\n",
    "scores = cross_val_score(model, X_train, y_train, scoring='roc_auc', cv=cv, n_jobs=-1, verbose=5)\n",
    "print('Mean ROC AUC: %.3f' % np.mean(scores))"
   ]
  },
  {
   "cell_type": "markdown",
   "metadata": {},
   "source": [
    "## Hyperparameter Tuning"
   ]
  },
  {
   "cell_type": "markdown",
   "metadata": {},
   "source": [
    "# Visualization"
   ]
  },
  {
   "cell_type": "code",
   "execution_count": null,
   "metadata": {},
   "outputs": [],
   "source": [
    "plt1 = X[(X.dataset == 0) & (X.target == 1)].gender\n",
    "plt0 = X[(X.dataset == 0) & (X.target == 0)].gender\n",
    "hist_print(plt1, plt0, \"3rd External Source\", 'external source 3', 15)"
   ]
  },
  {
   "cell_type": "code",
   "execution_count": null,
   "metadata": {},
   "outputs": [],
   "source": [
    "fig, ax = plt.subplots(figsize=(6, 3), subplot_kw=dict(aspect=\"equal\"))\n",
    "\n",
    "recipe = ['\"bad\" loans', 'all other cases']\n",
    "\n",
    "data = [8, 92]\n",
    "\n",
    "wedges, texts = ax.pie(data, wedgeprops=dict(width=0.5), startangle=-40)\n",
    "\n",
    "bbox_props = dict(boxstyle=\"square,pad=0.3\", fc=\"w\", ec=\"k\", lw=0.72)\n",
    "kw = dict(arrowprops=dict(arrowstyle=\"-\"),\n",
    "          bbox=bbox_props, zorder=0, va=\"center\")\n",
    "\n",
    "for i, p in enumerate(wedges):\n",
    "    ang = (p.theta2 - p.theta1)/2. + p.theta1\n",
    "    y = np.sin(np.deg2rad(ang))\n",
    "    x = np.cos(np.deg2rad(ang))\n",
    "    horizontalalignment = {-1: \"right\", 1: \"left\"}[int(np.sign(x))]\n",
    "    connectionstyle = \"angle,angleA=0,angleB={}\".format(ang)\n",
    "    kw[\"arrowprops\"].update({\"connectionstyle\": connectionstyle})\n",
    "    ax.annotate(recipe[i], xy=(x, y), xytext=(1.35*np.sign(x), 1.4*y),\n",
    "                horizontalalignment=horizontalalignment, **kw)\n",
    "\n",
    "ax.set_title('Distribution of \"bad\" loans')\n",
    "plt.savefig('targetDistr.png')\n",
    "plt.show()"
   ]
  },
  {
   "cell_type": "code",
   "execution_count": null,
   "metadata": {},
   "outputs": [],
   "source": []
  }
 ],
 "metadata": {
  "hide_input": false,
  "kernelspec": {
   "display_name": "Python [conda env:nf] *",
   "language": "python",
   "name": "conda-env-nf-py"
  },
  "language_info": {
   "codemirror_mode": {
    "name": "ipython",
    "version": 3
   },
   "file_extension": ".py",
   "mimetype": "text/x-python",
   "name": "python",
   "nbconvert_exporter": "python",
   "pygments_lexer": "ipython3",
   "version": "3.6.10"
  },
  "toc": {
   "base_numbering": 1,
   "nav_menu": {},
   "number_sections": true,
   "sideBar": true,
   "skip_h1_title": false,
   "title_cell": "Table of Contents",
   "title_sidebar": "Contents",
   "toc_cell": false,
   "toc_position": {},
   "toc_section_display": true,
   "toc_window_display": true
  },
  "varInspector": {
   "cols": {
    "lenName": 16,
    "lenType": 16,
    "lenVar": 40
   },
   "kernels_config": {
    "python": {
     "delete_cmd_postfix": "",
     "delete_cmd_prefix": "del ",
     "library": "var_list.py",
     "varRefreshCmd": "print(var_dic_list())"
    },
    "r": {
     "delete_cmd_postfix": ") ",
     "delete_cmd_prefix": "rm(",
     "library": "var_list.r",
     "varRefreshCmd": "cat(var_dic_list()) "
    }
   },
   "types_to_exclude": [
    "module",
    "function",
    "builtin_function_or_method",
    "instance",
    "_Feature"
   ],
   "window_display": false
  }
 },
 "nbformat": 4,
 "nbformat_minor": 4
}
